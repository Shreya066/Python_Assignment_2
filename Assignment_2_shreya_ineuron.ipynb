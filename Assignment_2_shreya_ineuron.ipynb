{
 "cells": [
  {
   "cell_type": "markdown",
   "id": "7212cc5d",
   "metadata": {},
   "source": [
    "**1.What are the two values of the Boolean data type? How do you write them?**\n",
    "\n",
    "It has two possible values: true and false and it is written as True and False i.e. with a capital T and F and the rest is in lowercase"
   ]
  },
  {
   "cell_type": "markdown",
   "id": "9330580a",
   "metadata": {},
   "source": [
    "**2. What are the three different types of Boolean operators?**\n",
    "\n",
    "and, or, not."
   ]
  },
  {
   "cell_type": "markdown",
   "id": "42ad6fce",
   "metadata": {},
   "source": [
    "**3. Make a list of each Boolean operator's truth tables (i.e. every possible combination of Boolean values for the operator and what it evaluate ).**\n",
    "\n",
    "**AND TRUTH TABLE**\n",
    "\n",
    "| A | B | A and B |\n",
    "| --- | --- | --- |\n",
    "| False | False | False |\n",
    "| False | True | False |\n",
    "| True | False | False |\n",
    "| True | True | True |\n",
    "\n",
    "<br>\n",
    "\n",
    "**OR TRUTH TABLE**\n",
    "\n",
    "| A | B | A or B |\n",
    "| --- | --- | --- |\n",
    "| True | True | True |\n",
    "| True | False | True |\n",
    "| False | True | True |\n",
    "| False | False | False |\n",
    "\n",
    "<br>\n",
    "\n",
    "**NOT TRUTH TABLE**\n",
    "\n",
    "| A | not A |\n",
    "| --- | --- |\n",
    "| False | True |\n",
    "| True | False |\n",
    "\n",
    "<br>\n"
   ]
  },
  {
   "cell_type": "markdown",
   "id": "a489543e",
   "metadata": {},
   "source": [
    "**4. What are the values of the following expressions?**\n",
    "\n",
    "(5 > 4) and (3 == 5) : False <br>\n",
    "not (5 > 4) : False <br>\n",
    "(5 > 4) or (3 == 5) : True <br>\n",
    "not ((5 > 4) or (3 == 5)) : False <br>\n",
    "(True and True) and (True == False) : False <br>\n",
    "(not False) or (not True) : True <br>\n"
   ]
  },
  {
   "cell_type": "markdown",
   "id": "7dbd1d5f",
   "metadata": {},
   "source": [
    "**5. What are the six comparison operators?**\n",
    "\n",
    "(<) , (<=) , (>) , (>=) , (==) , (!=)"
   ]
  },
  {
   "cell_type": "markdown",
   "id": "482bd542",
   "metadata": {},
   "source": [
    "**6. How do you tell the difference between the equal to and assignment operators?Describe a condition and when you would use one.**\n",
    "\n",
    "The assignment operator (=) is used to assign a value to a particular variable <br>\n",
    "For eg: a = 10; b = 15. <br>\n",
    "The equal to operator (==) is an relational or comparison operator. It checks whether the two given operands are equal or not. If so, it returns True otherwise False.   \\\n",
    "For eg if spam == 10:print('eggs')\n",
    "         "
   ]
  },
  {
   "cell_type": "markdown",
   "id": "07b13c7b",
   "metadata": {},
   "source": [
    "**7. Identify the three blocks in this code: <br>\n",
    "spam = 0 <br>\n",
    "if spam == 10: <br>\n",
    "print('eggs') <br>\n",
    "if spam > 5: <br>\n",
    "print('bacon') <br>\n",
    "else: <br>\n",
    "print('ham') <br>\n",
    "print('spam') <br>\n",
    "print('spam')**\n",
    "\n",
    "\n",
    "\n",
    "\n"
   ]
  },
  {
   "cell_type": "code",
   "execution_count": 56,
   "id": "5739e354",
   "metadata": {},
   "outputs": [
    {
     "name": "stdout",
     "output_type": "stream",
     "text": [
      "ham\n",
      "spam\n",
      "spam\n"
     ]
    }
   ],
   "source": [
    "spam = 0\n",
    "# 1st block\n",
    "if spam == 10:\n",
    "    print('eggs')\n",
    "# 2nd block\n",
    "if spam>5:\n",
    "    print('bacon')\n",
    "# 3rd block\n",
    "else:\n",
    "    print('ham')\n",
    "    print('spam')\n",
    "    print( 'spam')"
   ]
  },
  {
   "cell_type": "markdown",
   "id": "53e7b1a6",
   "metadata": {},
   "source": [
    "**8. Write code that prints Hello if 1 is stored in spam, prints Howdy if 2 is stored in spam, and prints Greetings! if anything else is stored in spam.**\n"
   ]
  },
  {
   "cell_type": "code",
   "execution_count": 58,
   "id": "adb91588",
   "metadata": {},
   "outputs": [
    {
     "name": "stdout",
     "output_type": "stream",
     "text": [
      "2\n",
      "Howdy\n"
     ]
    }
   ],
   "source": [
    "spam = int(input())\n",
    "if spam == 1:\n",
    "    print(\"Hello\")\n",
    "elif spam == 2:\n",
    "    print(\"Howdy\")\n",
    "else:\n",
    "    print(\"Greetings!\")\n"
   ]
  },
  {
   "cell_type": "markdown",
   "id": "dce86004",
   "metadata": {},
   "source": [
    "**9.If your programme is stuck in an endless loop, what keys you’ll press?**\n",
    "\n",
    "Ctrl + C\n"
   ]
  },
  {
   "cell_type": "markdown",
   "id": "574c691d",
   "metadata": {},
   "source": [
    "**10. How can you tell the difference between break and continue?**\n",
    "\n",
    "Break statement stops the loop in which the statement is placed whereas a continue statement skips a single iteration in a loop"
   ]
  },
  {
   "cell_type": "code",
   "execution_count": 62,
   "id": "ca566d22",
   "metadata": {},
   "outputs": [
    {
     "name": "stdout",
     "output_type": "stream",
     "text": [
      "continue example\n",
      "0 1 3 4 \n",
      "------------------------------------------\n",
      "break example\n",
      "0 1 "
     ]
    }
   ],
   "source": [
    "# continue example\n",
    "print('continue example')\n",
    "# this will print 0, 1, 3, 4\n",
    "for i in range(5):\n",
    "    if i == 2:\n",
    "        continue\n",
    "    print(i, end = ' ')\n",
    "    \n",
    "# break example\n",
    "print()\n",
    "print('------------------------------------------')\n",
    "print('break example')\n",
    "# this will print 0, 1\n",
    "for i in range(5):\n",
    "    if i == 2:\n",
    "        break\n",
    "    print(i, end = ' ')"
   ]
  },
  {
   "cell_type": "markdown",
   "id": "40249658",
   "metadata": {},
   "source": [
    "**11. In a for loop, what is the difference between range(10), range(0, 10), and range(0, 10, 1)?**\n",
    "\n",
    "When user call range(10), the user will get a series of numbers starting from 0 and goes till 9 but does not include 10. <br>\n",
    "When user call range (0, 10), the user will get a series that explicitly starts from 0 and goes till 9 so the user gets to decide not only where to start the series of number stops but also where it starts from. <br>\n",
    "When the user call range(0, 10, 1), the user explicitly tells the loop to increase the variable by 1 on each iteration.\n"
   ]
  },
  {
   "cell_type": "markdown",
   "id": "f1c790c6",
   "metadata": {},
   "source": [
    "**12. Write a short program that prints the numbers 1 to 10 using a for loop. Then write an equivalent program that prints the numbers 1 to 10 using a while loop.**"
   ]
  },
  {
   "cell_type": "code",
   "execution_count": 47,
   "id": "bbb2c4c2",
   "metadata": {},
   "outputs": [
    {
     "name": "stdout",
     "output_type": "stream",
     "text": [
      "1 2 3 4 5 6 7 8 9 10 "
     ]
    }
   ],
   "source": [
    "for i in range(1 ,11):\n",
    "    print(i, end = \" \")"
   ]
  },
  {
   "cell_type": "code",
   "execution_count": 64,
   "id": "4a446c18",
   "metadata": {},
   "outputs": [
    {
     "name": "stdout",
     "output_type": "stream",
     "text": [
      "1 2 3 4 5 6 7 8 9 10 "
     ]
    }
   ],
   "source": [
    "i = 1\n",
    "while i<=10:\n",
    "    print(i, end = \" \")\n",
    "    i=i+1"
   ]
  },
  {
   "cell_type": "markdown",
   "id": "07af15af",
   "metadata": {},
   "source": [
    "**13. If you had a function named bacon() inside a module named spam, how would you call it after importing spam?**\n",
    "\n"
   ]
  },
  {
   "cell_type": "code",
   "execution_count": 55,
   "id": "0b39eb80",
   "metadata": {},
   "outputs": [],
   "source": [
    "# there are two ways of doing this\n",
    "# 1st way\n",
    "import spam\n",
    "spam.bacon()\n",
    "\n",
    "#2nd way\n",
    "from spam import bacon\n",
    "bacon()"
   ]
  },
  {
   "cell_type": "code",
   "execution_count": null,
   "id": "b1c549da",
   "metadata": {},
   "outputs": [],
   "source": []
  }
 ],
 "metadata": {
  "kernelspec": {
   "display_name": "Python 3 (ipykernel)",
   "language": "python",
   "name": "python3"
  },
  "language_info": {
   "codemirror_mode": {
    "name": "ipython",
    "version": 3
   },
   "file_extension": ".py",
   "mimetype": "text/x-python",
   "name": "python",
   "nbconvert_exporter": "python",
   "pygments_lexer": "ipython3",
   "version": "3.9.7"
  }
 },
 "nbformat": 4,
 "nbformat_minor": 5
}
